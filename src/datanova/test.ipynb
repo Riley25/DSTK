{
 "cells": [
  {
   "cell_type": "code",
   "execution_count": 1,
   "id": "7007230f",
   "metadata": {},
   "outputs": [],
   "source": [
    "import os\n",
    "import pandas as pd\n",
    "from typing import Optional, Sequence, Union\n",
    "\n",
    "pd.set_option('display.max_columns', None)\n",
    "\n",
    "from core import * "
   ]
  },
  {
   "cell_type": "code",
   "execution_count": 2,
   "id": "a0ea49e7",
   "metadata": {},
   "outputs": [],
   "source": [
    "df = load_data(r'D:\\Documents\\Python\\CREATE_DATA\\airline_names.xlsx')\n"
   ]
  },
  {
   "cell_type": "code",
   "execution_count": 3,
   "id": "8dc7b518",
   "metadata": {},
   "outputs": [
    {
     "data": {
      "text/html": [
       "<div>\n",
       "<style scoped>\n",
       "    .dataframe tbody tr th:only-of-type {\n",
       "        vertical-align: middle;\n",
       "    }\n",
       "\n",
       "    .dataframe tbody tr th {\n",
       "        vertical-align: top;\n",
       "    }\n",
       "\n",
       "    .dataframe thead th {\n",
       "        text-align: right;\n",
       "    }\n",
       "</style>\n",
       "<table border=\"1\" class=\"dataframe\">\n",
       "  <thead>\n",
       "    <tr style=\"text-align: right;\">\n",
       "      <th></th>\n",
       "      <th>operating_airline</th>\n",
       "      <th>operating_airline2</th>\n",
       "    </tr>\n",
       "  </thead>\n",
       "  <tbody>\n",
       "    <tr>\n",
       "      <th>0</th>\n",
       "      <td>ATA Airlines</td>\n",
       "      <td>ATA Airlines</td>\n",
       "    </tr>\n",
       "    <tr>\n",
       "      <th>1</th>\n",
       "      <td>ATA Airlines</td>\n",
       "      <td>ATA Airlines</td>\n",
       "    </tr>\n",
       "    <tr>\n",
       "      <th>2</th>\n",
       "      <td>ATA Airlines</td>\n",
       "      <td>ATA Airlines</td>\n",
       "    </tr>\n",
       "    <tr>\n",
       "      <th>3</th>\n",
       "      <td>Air Canada</td>\n",
       "      <td>Air Canada</td>\n",
       "    </tr>\n",
       "    <tr>\n",
       "      <th>4</th>\n",
       "      <td>Air Canada</td>\n",
       "      <td>Air Canada</td>\n",
       "    </tr>\n",
       "  </tbody>\n",
       "</table>\n",
       "</div>"
      ],
      "text/plain": [
       "  operating_airline operating_airline2\n",
       "0      ATA Airlines       ATA Airlines\n",
       "1      ATA Airlines       ATA Airlines\n",
       "2      ATA Airlines       ATA Airlines\n",
       "3        Air Canada         Air Canada\n",
       "4        Air Canada         Air Canada"
      ]
     },
     "execution_count": 3,
     "metadata": {},
     "output_type": "execute_result"
    }
   ],
   "source": [
    "#df = df[['operating_airline','published_airline']]\n",
    "#df = df[['activity_period']]\n",
    "df.head()"
   ]
  },
  {
   "cell_type": "code",
   "execution_count": 4,
   "id": "c0c0de21",
   "metadata": {},
   "outputs": [
    {
     "name": "stdout",
     "output_type": "stream",
     "text": [
      "ROW TOTAL = 22,869 COLUMNS = 2\n"
     ]
    },
    {
     "data": {
      "text/html": [
       "<div>\n",
       "<style scoped>\n",
       "    .dataframe tbody tr th:only-of-type {\n",
       "        vertical-align: middle;\n",
       "    }\n",
       "\n",
       "    .dataframe tbody tr th {\n",
       "        vertical-align: top;\n",
       "    }\n",
       "\n",
       "    .dataframe thead th {\n",
       "        text-align: right;\n",
       "    }\n",
       "</style>\n",
       "<table border=\"1\" class=\"dataframe\">\n",
       "  <thead>\n",
       "    <tr style=\"text-align: right;\">\n",
       "      <th></th>\n",
       "      <th>Variable Name</th>\n",
       "      <th>Variable Type</th>\n",
       "      <th>Missing Count</th>\n",
       "      <th>% Blank</th>\n",
       "      <th>Unique Values</th>\n",
       "      <th>Most Frequent Value</th>\n",
       "      <th>count</th>\n",
       "      <th>unique</th>\n",
       "      <th>top</th>\n",
       "      <th>freq</th>\n",
       "    </tr>\n",
       "  </thead>\n",
       "  <tbody>\n",
       "    <tr>\n",
       "      <th>0</th>\n",
       "      <td>operating_airline</td>\n",
       "      <td>object</td>\n",
       "      <td>0</td>\n",
       "      <td>0</td>\n",
       "      <td>95</td>\n",
       "      <td>United Airlines</td>\n",
       "      <td>22869</td>\n",
       "      <td>95</td>\n",
       "      <td>United Airlines</td>\n",
       "      <td>2396</td>\n",
       "    </tr>\n",
       "    <tr>\n",
       "      <th>1</th>\n",
       "      <td>operating_airline2</td>\n",
       "      <td>object</td>\n",
       "      <td>4868</td>\n",
       "      <td>21</td>\n",
       "      <td>84</td>\n",
       "      <td>United Airlines - Pre 07/01/2013</td>\n",
       "      <td>18001</td>\n",
       "      <td>84</td>\n",
       "      <td>United Airlines - Pre 07/01/2013</td>\n",
       "      <td>2154</td>\n",
       "    </tr>\n",
       "  </tbody>\n",
       "</table>\n",
       "</div>"
      ],
      "text/plain": [
       "        Variable Name Variable Type  Missing Count  % Blank  Unique Values  \\\n",
       "0   operating_airline        object              0        0             95   \n",
       "1  operating_airline2        object           4868       21             84   \n",
       "\n",
       "                Most Frequent Value  count unique  \\\n",
       "0                   United Airlines  22869     95   \n",
       "1  United Airlines - Pre 07/01/2013  18001     84   \n",
       "\n",
       "                                top  freq  \n",
       "0                   United Airlines  2396  \n",
       "1  United Airlines - Pre 07/01/2013  2154  "
      ]
     },
     "execution_count": 4,
     "metadata": {},
     "output_type": "execute_result"
    }
   ],
   "source": [
    "profile(df)"
   ]
  },
  {
   "cell_type": "code",
   "execution_count": 5,
   "id": "32016de0",
   "metadata": {},
   "outputs": [],
   "source": [
    "df.attrs['N'] = 5"
   ]
  },
  {
   "cell_type": "code",
   "execution_count": 6,
   "id": "5e48c66c",
   "metadata": {},
   "outputs": [
    {
     "data": {
      "text/plain": [
       "{'N': 5}"
      ]
     },
     "execution_count": 6,
     "metadata": {},
     "output_type": "execute_result"
    }
   ],
   "source": [
    "df.attrs"
   ]
  },
  {
   "cell_type": "code",
   "execution_count": null,
   "id": "702635f1",
   "metadata": {},
   "outputs": [],
   "source": []
  }
 ],
 "metadata": {
  "kernelspec": {
   "display_name": "Python 3",
   "language": "python",
   "name": "python3"
  },
  "language_info": {
   "codemirror_mode": {
    "name": "ipython",
    "version": 3
   },
   "file_extension": ".py",
   "mimetype": "text/x-python",
   "name": "python",
   "nbconvert_exporter": "python",
   "pygments_lexer": "ipython3",
   "version": "3.13.0"
  }
 },
 "nbformat": 4,
 "nbformat_minor": 5
}
